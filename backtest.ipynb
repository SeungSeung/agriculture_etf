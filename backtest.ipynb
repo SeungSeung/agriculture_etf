{
 "cells": [
  {
   "cell_type": "code",
   "execution_count": 1,
   "metadata": {},
   "outputs": [],
   "source": [
    "import pandas as pd \n",
    "import numpy as np\n",
    "import matplotlib.pyplot as plt\n",
    "import pandas_datareader.naver as web_naver"
   ]
  },
  {
   "cell_type": "markdown",
   "metadata": {},
   "source": [
    "데이터 병합\n"
   ]
  },
  {
   "cell_type": "code",
   "execution_count": 2,
   "metadata": {},
   "outputs": [
    {
     "name": "stdout",
     "output_type": "stream",
     "text": [
      "<class 'pandas.core.frame.DataFrame'>\n",
      "Index: 375 entries, 2020-07-02 to 2022-01-21\n",
      "Data columns (total 2 columns):\n",
      " #   Column       Non-Null Count  Dtype  \n",
      "---  ------       --------------  -----  \n",
      " 0   tiger_close  375 non-null    float64\n",
      " 1   pred         375 non-null    int64  \n",
      "dtypes: float64(1), int64(1)\n",
      "memory usage: 8.8+ KB\n"
     ]
    }
   ],
   "source": [
    "result1=pd.read_csv('result_mod1.csv',index_col=0)\n",
    "result2=pd.read_csv('result_mod2.csv',index_col=0)\n",
    "result1.info()"
   ]
  },
  {
   "cell_type": "code",
   "execution_count": 3,
   "metadata": {},
   "outputs": [
    {
     "name": "stdout",
     "output_type": "stream",
     "text": [
      "<class 'pandas.core.frame.DataFrame'>\n",
      "Index: 254 entries, 2021-01-04 to 2022-01-21\n",
      "Data columns (total 2 columns):\n",
      " #   Column       Non-Null Count  Dtype  \n",
      "---  ------       --------------  -----  \n",
      " 0   kodex_close  254 non-null    float64\n",
      " 1   pred         254 non-null    int64  \n",
      "dtypes: float64(1), int64(1)\n",
      "memory usage: 6.0+ KB\n"
     ]
    }
   ],
   "source": [
    "result2.info()"
   ]
  },
  {
   "cell_type": "code",
   "execution_count": 4,
   "metadata": {},
   "outputs": [],
   "source": [
    "df_tiger=web_naver.NaverDailyReader(symbols='137610', start='20200702',adjust_price=True)\n",
    "df_kodex=web_naver.NaverDailyReader(symbols='271060', start='20210104',adjust_price=True)"
   ]
  },
  {
   "cell_type": "code",
   "execution_count": 5,
   "metadata": {},
   "outputs": [],
   "source": [
    "df_tiger=df_tiger.read()\n",
    "df_kodex=df_kodex.read()\n"
   ]
  },
  {
   "cell_type": "code",
   "execution_count": 6,
   "metadata": {},
   "outputs": [],
   "source": [
    "df_tiger=df_tiger.astype(float)\n",
    "df_kodex=df_kodex.astype(float)"
   ]
  },
  {
   "cell_type": "code",
   "execution_count": 15,
   "metadata": {},
   "outputs": [],
   "source": [
    "df_tiger.index,result1.index = pd.to_datetime(df_tiger.index),pd.to_datetime(result1.index)\n",
    "df_kodex.index,result2.index=pd.to_datetime(df_kodex.index),pd.to_datetime(result2.index)"
   ]
  },
  {
   "cell_type": "code",
   "execution_count": 7,
   "metadata": {},
   "outputs": [],
   "source": [
    "\"\"\"\n",
    "df_tiger.index = pd.to_datetime(df_tiger.index)\n",
    "result1.index=pd.to_datetime(result1.index)\n",
    "df_kodex.index = pd.to_datetime(df_kodex.index)\n",
    "result2.index=pd.to_datetime(result2.index)\"\"\""
   ]
  },
  {
   "cell_type": "code",
   "execution_count": 8,
   "metadata": {},
   "outputs": [
    {
     "data": {
      "text/html": [
       "<div>\n",
       "<style scoped>\n",
       "    .dataframe tbody tr th:only-of-type {\n",
       "        vertical-align: middle;\n",
       "    }\n",
       "\n",
       "    .dataframe tbody tr th {\n",
       "        vertical-align: top;\n",
       "    }\n",
       "\n",
       "    .dataframe thead th {\n",
       "        text-align: right;\n",
       "    }\n",
       "</style>\n",
       "<table border=\"1\" class=\"dataframe\">\n",
       "  <thead>\n",
       "    <tr style=\"text-align: right;\">\n",
       "      <th></th>\n",
       "      <th>Open</th>\n",
       "      <th>High</th>\n",
       "      <th>Low</th>\n",
       "      <th>Close</th>\n",
       "      <th>Volume</th>\n",
       "      <th>tiger_close</th>\n",
       "      <th>pred</th>\n",
       "    </tr>\n",
       "    <tr>\n",
       "      <th>Date</th>\n",
       "      <th></th>\n",
       "      <th></th>\n",
       "      <th></th>\n",
       "      <th></th>\n",
       "      <th></th>\n",
       "      <th></th>\n",
       "      <th></th>\n",
       "    </tr>\n",
       "  </thead>\n",
       "  <tbody>\n",
       "    <tr>\n",
       "      <th>2020-07-02</th>\n",
       "      <td>4080.0</td>\n",
       "      <td>4120.0</td>\n",
       "      <td>4080.0</td>\n",
       "      <td>4110.0</td>\n",
       "      <td>41901.0</td>\n",
       "      <td>-1.398068</td>\n",
       "      <td>1.0</td>\n",
       "    </tr>\n",
       "    <tr>\n",
       "      <th>2020-07-06</th>\n",
       "      <td>4080.0</td>\n",
       "      <td>4120.0</td>\n",
       "      <td>4080.0</td>\n",
       "      <td>4080.0</td>\n",
       "      <td>51873.0</td>\n",
       "      <td>-1.413933</td>\n",
       "      <td>1.0</td>\n",
       "    </tr>\n",
       "    <tr>\n",
       "      <th>2020-07-07</th>\n",
       "      <td>4100.0</td>\n",
       "      <td>4110.0</td>\n",
       "      <td>4070.0</td>\n",
       "      <td>4085.0</td>\n",
       "      <td>18914.0</td>\n",
       "      <td>-1.411289</td>\n",
       "      <td>1.0</td>\n",
       "    </tr>\n",
       "    <tr>\n",
       "      <th>2020-07-08</th>\n",
       "      <td>4080.0</td>\n",
       "      <td>4090.0</td>\n",
       "      <td>4070.0</td>\n",
       "      <td>4085.0</td>\n",
       "      <td>13456.0</td>\n",
       "      <td>-1.411289</td>\n",
       "      <td>1.0</td>\n",
       "    </tr>\n",
       "    <tr>\n",
       "      <th>2020-07-09</th>\n",
       "      <td>4105.0</td>\n",
       "      <td>4125.0</td>\n",
       "      <td>4100.0</td>\n",
       "      <td>4120.0</td>\n",
       "      <td>35266.0</td>\n",
       "      <td>-1.392779</td>\n",
       "      <td>1.0</td>\n",
       "    </tr>\n",
       "    <tr>\n",
       "      <th>...</th>\n",
       "      <td>...</td>\n",
       "      <td>...</td>\n",
       "      <td>...</td>\n",
       "      <td>...</td>\n",
       "      <td>...</td>\n",
       "      <td>...</td>\n",
       "      <td>...</td>\n",
       "    </tr>\n",
       "    <tr>\n",
       "      <th>2022-01-14</th>\n",
       "      <td>6805.0</td>\n",
       "      <td>6805.0</td>\n",
       "      <td>6635.0</td>\n",
       "      <td>6650.0</td>\n",
       "      <td>11895.0</td>\n",
       "      <td>-0.054782</td>\n",
       "      <td>1.0</td>\n",
       "    </tr>\n",
       "    <tr>\n",
       "      <th>2022-01-18</th>\n",
       "      <td>6685.0</td>\n",
       "      <td>6700.0</td>\n",
       "      <td>6660.0</td>\n",
       "      <td>6665.0</td>\n",
       "      <td>10762.0</td>\n",
       "      <td>-0.046849</td>\n",
       "      <td>-1.0</td>\n",
       "    </tr>\n",
       "    <tr>\n",
       "      <th>2022-01-19</th>\n",
       "      <td>6690.0</td>\n",
       "      <td>6795.0</td>\n",
       "      <td>6690.0</td>\n",
       "      <td>6790.0</td>\n",
       "      <td>20236.0</td>\n",
       "      <td>0.019258</td>\n",
       "      <td>-1.0</td>\n",
       "    </tr>\n",
       "    <tr>\n",
       "      <th>2022-01-20</th>\n",
       "      <td>6890.0</td>\n",
       "      <td>6900.0</td>\n",
       "      <td>6875.0</td>\n",
       "      <td>6900.0</td>\n",
       "      <td>63080.0</td>\n",
       "      <td>0.077432</td>\n",
       "      <td>1.0</td>\n",
       "    </tr>\n",
       "    <tr>\n",
       "      <th>2022-01-21</th>\n",
       "      <td>6910.0</td>\n",
       "      <td>6950.0</td>\n",
       "      <td>6845.0</td>\n",
       "      <td>6870.0</td>\n",
       "      <td>18473.0</td>\n",
       "      <td>0.061566</td>\n",
       "      <td>-1.0</td>\n",
       "    </tr>\n",
       "  </tbody>\n",
       "</table>\n",
       "<p>375 rows × 7 columns</p>\n",
       "</div>"
      ],
      "text/plain": [
       "              Open    High     Low   Close   Volume  tiger_close  pred\n",
       "Date                                                                  \n",
       "2020-07-02  4080.0  4120.0  4080.0  4110.0  41901.0    -1.398068   1.0\n",
       "2020-07-06  4080.0  4120.0  4080.0  4080.0  51873.0    -1.413933   1.0\n",
       "2020-07-07  4100.0  4110.0  4070.0  4085.0  18914.0    -1.411289   1.0\n",
       "2020-07-08  4080.0  4090.0  4070.0  4085.0  13456.0    -1.411289   1.0\n",
       "2020-07-09  4105.0  4125.0  4100.0  4120.0  35266.0    -1.392779   1.0\n",
       "...            ...     ...     ...     ...      ...          ...   ...\n",
       "2022-01-14  6805.0  6805.0  6635.0  6650.0  11895.0    -0.054782   1.0\n",
       "2022-01-18  6685.0  6700.0  6660.0  6665.0  10762.0    -0.046849  -1.0\n",
       "2022-01-19  6690.0  6795.0  6690.0  6790.0  20236.0     0.019258  -1.0\n",
       "2022-01-20  6890.0  6900.0  6875.0  6900.0  63080.0     0.077432   1.0\n",
       "2022-01-21  6910.0  6950.0  6845.0  6870.0  18473.0     0.061566  -1.0\n",
       "\n",
       "[375 rows x 7 columns]"
      ]
     },
     "execution_count": 8,
     "metadata": {},
     "output_type": "execute_result"
    }
   ],
   "source": [
    "\n",
    "\n",
    "df_tiger=pd.concat([df_tiger,result1],axis=1)\n",
    "df_tiger.dropna(inplace=True)\n",
    "df_tiger"
   ]
  },
  {
   "cell_type": "code",
   "execution_count": 9,
   "metadata": {},
   "outputs": [
    {
     "data": {
      "text/html": [
       "<div>\n",
       "<style scoped>\n",
       "    .dataframe tbody tr th:only-of-type {\n",
       "        vertical-align: middle;\n",
       "    }\n",
       "\n",
       "    .dataframe tbody tr th {\n",
       "        vertical-align: top;\n",
       "    }\n",
       "\n",
       "    .dataframe thead th {\n",
       "        text-align: right;\n",
       "    }\n",
       "</style>\n",
       "<table border=\"1\" class=\"dataframe\">\n",
       "  <thead>\n",
       "    <tr style=\"text-align: right;\">\n",
       "      <th></th>\n",
       "      <th>Open</th>\n",
       "      <th>High</th>\n",
       "      <th>Low</th>\n",
       "      <th>Close</th>\n",
       "      <th>Volume</th>\n",
       "      <th>kodex_close</th>\n",
       "      <th>pred</th>\n",
       "    </tr>\n",
       "    <tr>\n",
       "      <th>Date</th>\n",
       "      <th></th>\n",
       "      <th></th>\n",
       "      <th></th>\n",
       "      <th></th>\n",
       "      <th></th>\n",
       "      <th></th>\n",
       "      <th></th>\n",
       "    </tr>\n",
       "  </thead>\n",
       "  <tbody>\n",
       "    <tr>\n",
       "      <th>2021-01-04</th>\n",
       "      <td>9350.0</td>\n",
       "      <td>9650.0</td>\n",
       "      <td>9335.0</td>\n",
       "      <td>9625.0</td>\n",
       "      <td>76109.0</td>\n",
       "      <td>0.578147</td>\n",
       "      <td>1.0</td>\n",
       "    </tr>\n",
       "    <tr>\n",
       "      <th>2021-01-05</th>\n",
       "      <td>9560.0</td>\n",
       "      <td>9565.0</td>\n",
       "      <td>9465.0</td>\n",
       "      <td>9545.0</td>\n",
       "      <td>51776.0</td>\n",
       "      <td>0.533887</td>\n",
       "      <td>1.0</td>\n",
       "    </tr>\n",
       "    <tr>\n",
       "      <th>2021-01-06</th>\n",
       "      <td>9570.0</td>\n",
       "      <td>9790.0</td>\n",
       "      <td>9570.0</td>\n",
       "      <td>9785.0</td>\n",
       "      <td>67261.0</td>\n",
       "      <td>0.666667</td>\n",
       "      <td>1.0</td>\n",
       "    </tr>\n",
       "    <tr>\n",
       "      <th>2021-01-07</th>\n",
       "      <td>9780.0</td>\n",
       "      <td>9780.0</td>\n",
       "      <td>9655.0</td>\n",
       "      <td>9715.0</td>\n",
       "      <td>72898.0</td>\n",
       "      <td>0.627939</td>\n",
       "      <td>1.0</td>\n",
       "    </tr>\n",
       "    <tr>\n",
       "      <th>2021-01-08</th>\n",
       "      <td>9715.0</td>\n",
       "      <td>9715.0</td>\n",
       "      <td>9590.0</td>\n",
       "      <td>9710.0</td>\n",
       "      <td>63291.0</td>\n",
       "      <td>0.625173</td>\n",
       "      <td>1.0</td>\n",
       "    </tr>\n",
       "    <tr>\n",
       "      <th>...</th>\n",
       "      <td>...</td>\n",
       "      <td>...</td>\n",
       "      <td>...</td>\n",
       "      <td>...</td>\n",
       "      <td>...</td>\n",
       "      <td>...</td>\n",
       "      <td>...</td>\n",
       "    </tr>\n",
       "    <tr>\n",
       "      <th>2022-01-14</th>\n",
       "      <td>11295.0</td>\n",
       "      <td>11300.0</td>\n",
       "      <td>11160.0</td>\n",
       "      <td>11200.0</td>\n",
       "      <td>4723.0</td>\n",
       "      <td>1.449516</td>\n",
       "      <td>-1.0</td>\n",
       "    </tr>\n",
       "    <tr>\n",
       "      <th>2022-01-18</th>\n",
       "      <td>11340.0</td>\n",
       "      <td>11360.0</td>\n",
       "      <td>11180.0</td>\n",
       "      <td>11200.0</td>\n",
       "      <td>10743.0</td>\n",
       "      <td>1.449516</td>\n",
       "      <td>1.0</td>\n",
       "    </tr>\n",
       "    <tr>\n",
       "      <th>2022-01-19</th>\n",
       "      <td>11320.0</td>\n",
       "      <td>11450.0</td>\n",
       "      <td>11250.0</td>\n",
       "      <td>11430.0</td>\n",
       "      <td>9340.0</td>\n",
       "      <td>1.576763</td>\n",
       "      <td>1.0</td>\n",
       "    </tr>\n",
       "    <tr>\n",
       "      <th>2022-01-20</th>\n",
       "      <td>11680.0</td>\n",
       "      <td>11680.0</td>\n",
       "      <td>11550.0</td>\n",
       "      <td>11650.0</td>\n",
       "      <td>23562.0</td>\n",
       "      <td>1.698479</td>\n",
       "      <td>1.0</td>\n",
       "    </tr>\n",
       "    <tr>\n",
       "      <th>2022-01-21</th>\n",
       "      <td>11685.0</td>\n",
       "      <td>11690.0</td>\n",
       "      <td>11605.0</td>\n",
       "      <td>11610.0</td>\n",
       "      <td>7366.0</td>\n",
       "      <td>1.676349</td>\n",
       "      <td>1.0</td>\n",
       "    </tr>\n",
       "  </tbody>\n",
       "</table>\n",
       "<p>254 rows × 7 columns</p>\n",
       "</div>"
      ],
      "text/plain": [
       "               Open     High      Low    Close   Volume  kodex_close  pred\n",
       "Date                                                                      \n",
       "2021-01-04   9350.0   9650.0   9335.0   9625.0  76109.0     0.578147   1.0\n",
       "2021-01-05   9560.0   9565.0   9465.0   9545.0  51776.0     0.533887   1.0\n",
       "2021-01-06   9570.0   9790.0   9570.0   9785.0  67261.0     0.666667   1.0\n",
       "2021-01-07   9780.0   9780.0   9655.0   9715.0  72898.0     0.627939   1.0\n",
       "2021-01-08   9715.0   9715.0   9590.0   9710.0  63291.0     0.625173   1.0\n",
       "...             ...      ...      ...      ...      ...          ...   ...\n",
       "2022-01-14  11295.0  11300.0  11160.0  11200.0   4723.0     1.449516  -1.0\n",
       "2022-01-18  11340.0  11360.0  11180.0  11200.0  10743.0     1.449516   1.0\n",
       "2022-01-19  11320.0  11450.0  11250.0  11430.0   9340.0     1.576763   1.0\n",
       "2022-01-20  11680.0  11680.0  11550.0  11650.0  23562.0     1.698479   1.0\n",
       "2022-01-21  11685.0  11690.0  11605.0  11610.0   7366.0     1.676349   1.0\n",
       "\n",
       "[254 rows x 7 columns]"
      ]
     },
     "execution_count": 9,
     "metadata": {},
     "output_type": "execute_result"
    }
   ],
   "source": [
    "df_kodex=pd.concat([df_kodex,result2],axis=1)\n",
    "df_kodex.dropna(inplace=True)\n",
    "df_kodex"
   ]
  },
  {
   "cell_type": "markdown",
   "metadata": {},
   "source": [
    "수익률 계산"
   ]
  },
  {
   "cell_type": "code",
   "execution_count": 10,
   "metadata": {},
   "outputs": [],
   "source": [
    "df_tiger['close_1']=df_tiger['Close'].shift(1)\n",
    "df_tiger['return']=np.log(df_tiger['Close']/df_tiger['close_1'])\n",
    "\n",
    "\n",
    "df_kodex['close_1']=df_kodex['Close'].shift(1)\n",
    "df_kodex['return']=np.log(df_kodex['Close']/df_kodex['close_1'])"
   ]
  },
  {
   "cell_type": "code",
   "execution_count": 16,
   "metadata": {},
   "outputs": [
    {
     "name": "stdout",
     "output_type": "stream",
     "text": [
      "tiger etf 수익률: return      1.671533\n",
      "strategy    2.814908\n",
      "dtype: float64\n",
      "kodex etf 수익률: return      1.206234\n",
      "strategy    1.259281\n",
      "dtype: float64\n"
     ]
    }
   ],
   "source": [
    "df_tiger['strategy']=df_tiger['return']*df_tiger['pred']*(1-0.00215)\n",
    "df_kodex['strategy']=df_kodex['return']*df_kodex['pred']*(1-0.00215)\n",
    "\n",
    "print('tiger etf 수익률: {}'.format(df_tiger[['return','strategy']].sum().apply(np.exp)))\n",
    "print('kodex etf 수익률: {}'.format(df_kodex[['return','strategy']].sum().apply(np.exp)))\n",
    "\n",
    "\n",
    "\n"
   ]
  },
  {
   "cell_type": "code",
   "execution_count": 17,
   "metadata": {},
   "outputs": [
    {
     "data": {
      "text/plain": [
       "<AxesSubplot:xlabel='Date'>"
      ]
     },
     "execution_count": 17,
     "metadata": {},
     "output_type": "execute_result"
    },
    {
     "data": {
      "image/png": "[encoded data removed]",
      "text/plain": [
       "<Figure size 720x432 with 1 Axes>"
      ]
     },
     "metadata": {
      "needs_background": "light"
     },
     "output_type": "display_data"
    }
   ],
   "source": [
    "df_tiger[['return','strategy']].cumsum().apply(np.exp).plot(figsize=(10,6))\n"
   ]
  },
  {
   "cell_type": "code",
   "execution_count": 18,
   "metadata": {},
   "outputs": [
    {
     "data": {
      "text/plain": [
       "<AxesSubplot:xlabel='Date'>"
      ]
     },
     "execution_count": 18,
     "metadata": {},
     "output_type": "execute_result"
    },
    {
     "data": {
      "image/png": "[encoded data removed]",
      "text/plain": [
       "<Figure size 720x432 with 1 Axes>"
      ]
     },
     "metadata": {
      "needs_background": "light"
     },
     "output_type": "display_data"
    }
   ],
   "source": [
    "df_kodex[['return','strategy']].cumsum().apply(np.exp).plot(figsize=(10,6))\n"
   ]
  },
  {
   "cell_type": "code",
   "execution_count": null,
   "metadata": {},
   "outputs": [],
   "source": []
  }
 ],
 "metadata": {
  "interpreter": {
   "hash": "dacff0a8f8f47c6522d5ff550c424e5fbd8dda333ce972f85363528c90c1c08c"
  },
  "kernelspec": {
   "display_name": "Python 3.8.10 ('ml4t')",
   "language": "python",
   "name": "python3"
  },
  "language_info": {
   "codemirror_mode": {
    "name": "ipython",
    "version": 3
   },
   "file_extension": ".py",
   "mimetype": "text/x-python",
   "name": "python",
   "nbconvert_exporter": "python",
   "pygments_lexer": "ipython3",
   "version": "3.8.10"
  },
  "orig_nbformat": 4
 },
 "nbformat": 4,
 "nbformat_minor": 2
}
